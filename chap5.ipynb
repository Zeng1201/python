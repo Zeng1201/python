{
  "nbformat": 4,
  "nbformat_minor": 0,
  "metadata": {
    "colab": {
      "name": "chap5.ipynb",
      "provenance": [],
      "collapsed_sections": [],
      "authorship_tag": "ABX9TyNWBCtVMRxHERvDvSaRKk8e",
      "include_colab_link": true
    },
    "kernelspec": {
      "name": "python3",
      "display_name": "Python 3"
    },
    "language_info": {
      "name": "python"
    }
  },
  "cells": [
    {
      "cell_type": "markdown",
      "metadata": {
        "id": "view-in-github",
        "colab_type": "text"
      },
      "source": [
        "<a href=\"https://colab.research.google.com/github/Zeng1201/python/blob/main/chap5.ipynb\" target=\"_parent\"><img src=\"https://colab.research.google.com/assets/colab-badge.svg\" alt=\"Open In Colab\"/></a>"
      ]
    },
    {
      "cell_type": "markdown",
      "source": [
        "# 函式\n",
        "\n",
        "\n",
        "*   獨立的一組程式碼，可以重複使用\n",
        "*   通常可以有0-多個輸入參數，0-1個輸出\n",
        "*   函式輸入參數可以有預設值\n",
        "\n"
      ],
      "metadata": {
        "id": "E6l8IDsU6_J6"
      }
    },
    {
      "cell_type": "code",
      "execution_count": null,
      "metadata": {
        "colab": {
          "base_uri": "https://localhost:8080/"
        },
        "id": "yhJFSrpe6VJX",
        "outputId": "3434c146-b16c-4391-c04c-799d4a74327e"
      },
      "outputs": [
        {
          "output_type": "stream",
          "name": "stdout",
          "text": [
            "請輸入圓的半徑:5\n",
            "圓的面積為: 78.53981633974483\n"
          ]
        }
      ],
      "source": [
        "#傳統的程式寫法\n",
        "import math\n",
        "radiuds=eval(input(\"請輸入圓的半徑:\"))\n",
        "area=radiuds * radiuds * math.pi\n",
        "print(\"圓的面積為:\",area)"
      ]
    },
    {
      "cell_type": "code",
      "source": [
        "import math\n",
        "def circle_area(radiuds):\n",
        "  area=radiuds * radiuds * math.pi\n",
        "  return area\n",
        "\n",
        "print(circle_area(10)) \n",
        "print(circle_area(5)) "
      ],
      "metadata": {
        "colab": {
          "base_uri": "https://localhost:8080/"
        },
        "id": "mEwT-pfE8hCZ",
        "outputId": "f8f68998-29e3-4351-f6c3-f1c6d38c4f8b"
      },
      "execution_count": null,
      "outputs": [
        {
          "output_type": "stream",
          "name": "stdout",
          "text": [
            "314.1592653589793\n",
            "78.53981633974483\n"
          ]
        }
      ]
    }
  ]
}