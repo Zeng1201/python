{
  "nbformat": 4,
  "nbformat_minor": 0,
  "metadata": {
    "colab": {
      "name": "chap7.ipynb",
      "provenance": [],
      "collapsed_sections": [],
      "authorship_tag": "ABX9TyNmQL6rE45Bq5CZqfgYIUBA",
      "include_colab_link": true
    },
    "kernelspec": {
      "name": "python3",
      "display_name": "Python 3"
    },
    "language_info": {
      "name": "python"
    }
  },
  "cells": [
    {
      "cell_type": "markdown",
      "metadata": {
        "id": "view-in-github",
        "colab_type": "text"
      },
      "source": [
        "<a href=\"https://colab.research.google.com/github/Zeng1201/python/blob/main/chap7.ipynb\" target=\"_parent\"><img src=\"https://colab.research.google.com/assets/colab-badge.svg\" alt=\"Open In Colab\"/></a>"
      ]
    },
    {
      "cell_type": "markdown",
      "source": [
        "# 錯誤處裡\n",
        "try:<br>\n",
        "(需要檢測的程式碼)<br>\n",
        "except:<br>\n",
        "(錯誤時的處理方式)<br>\n",
        "else:<br>\n",
        "(如果沒有產生錯誤的處理方式)<br>\n",
        "finally:<br>\n",
        "(無論錯誤或執行正確，皆會進入的處理方式)<br>"
      ],
      "metadata": {
        "id": "vIt12KU-HRax"
      }
    },
    {
      "cell_type": "code",
      "execution_count": null,
      "metadata": {
        "colab": {
          "base_uri": "https://localhost:8080/"
        },
        "id": "kYeilZ99HMKn",
        "outputId": "2826b28f-20d5-4c78-8ba9-45aa0b61831c"
      },
      "outputs": [
        {
          "output_type": "stream",
          "name": "stdout",
          "text": [
            "錯誤產生\n"
          ]
        }
      ],
      "source": [
        "try:\n",
        "   a=5\n",
        "   b=10\n",
        "   if a<b:\n",
        "     print(n)\n",
        "except:\n",
        "  print(\"錯誤產生\")"
      ]
    },
    {
      "cell_type": "markdown",
      "source": [
        "##指定錯誤類別處理"
      ],
      "metadata": {
        "id": "BxAmTMjoaaQL"
      }
    },
    {
      "cell_type": "code",
      "source": [
        "a=10\n",
        "b=20\n",
        "try:\n",
        "    if a<b:\n",
        "        print(n)\n",
        "except NameError as e:#顯示錯誤\n",
        "    print(\"錯誤產生, 錯誤原因：\",e)\n",
        "except ZeroDivisionError:\n",
        "    print(\"除以0錯誤\")"
      ],
      "metadata": {
        "id": "vg3IyiVmaa50"
      },
      "execution_count": null,
      "outputs": []
    },
    {
      "cell_type": "code",
      "source": [
        "try:\n",
        "   a=5\n",
        "   b=10\n",
        "   if a<b:\n",
        "     print(n)\n",
        "except NameError:\n",
        "  print(\"名稱錯誤\")     \n",
        "except ZeroDivisionError:\n",
        "  print(\"除以0錯誤\")  \n",
        "except:\n",
        "  print(\"錯誤產生\")\n",
        "else:\n",
        "  print(\"程式正確沒有錯誤\")\n",
        "finally:\n",
        "  print(\"程式結束\")  "
      ],
      "metadata": {
        "colab": {
          "base_uri": "https://localhost:8080/"
        },
        "id": "4TknWL6ZLR-t",
        "outputId": "08e0e56c-93a7-49e5-8998-03ba270b2e97"
      },
      "execution_count": null,
      "outputs": [
        {
          "output_type": "stream",
          "name": "stdout",
          "text": [
            "名稱錯誤\n",
            "程式結束\n"
          ]
        }
      ]
    },
    {
      "cell_type": "markdown",
      "source": [
        "##else\n",
        "####沒有錯誤產生會執行的部分"
      ],
      "metadata": {
        "id": "RAaN2sOqay7K"
      }
    },
    {
      "cell_type": "code",
      "source": [
        "a=10\n",
        "b=20\n",
        "try:\n",
        "    if a>b: #改變比較條件，讓錯誤不發生\n",
        "        print(n)\n",
        "except:\n",
        "    print(\"錯誤發生\")\n",
        "else:\n",
        "    print(\"沒有錯誤發生時會執行的部分\")"
      ],
      "metadata": {
        "colab": {
          "base_uri": "https://localhost:8080/"
        },
        "id": "edNRjL26a4J-",
        "outputId": "12b9e6bb-a875-45ae-bfb2-8b1de011b46b"
      },
      "execution_count": 2,
      "outputs": [
        {
          "output_type": "stream",
          "name": "stdout",
          "text": [
            "沒有錯誤發生時會執行的部分\n"
          ]
        }
      ]
    },
    {
      "cell_type": "code",
      "source": [
        "a=10\n",
        "b=20\n",
        "try:\n",
        "    if a<b: #改變比較條件，讓錯誤不發生\n",
        "        print(n)\n",
        "except:\n",
        "    print(\"錯誤發生\")\n",
        "else:\n",
        "    print(\"沒有錯誤發生時會執行的部分\")\n",
        "finally:\n",
        "    print(\"不管有沒有錯誤一定會執行的部分\")"
      ],
      "metadata": {
        "colab": {
          "base_uri": "https://localhost:8080/"
        },
        "id": "It32heHxbLPV",
        "outputId": "fbe76f15-e13a-41dd-b269-a9cf43774cbc"
      },
      "execution_count": 4,
      "outputs": [
        {
          "output_type": "stream",
          "name": "stdout",
          "text": [
            "錯誤發生\n",
            "不管有沒有錯誤一定會執行的部分\n"
          ]
        }
      ]
    }
  ]
}