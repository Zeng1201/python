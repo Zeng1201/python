{
  "nbformat": 4,
  "nbformat_minor": 0,
  "metadata": {
    "colab": {
      "name": "Chap1.ipynb",
      "provenance": [],
      "collapsed_sections": []
    },
    "kernelspec": {
      "name": "python3",
      "display_name": "Python 3"
    },
    "language_info": {
      "name": "python"
    }
  },
  "cells": [
    {
      "cell_type": "markdown",
      "source": [
        "### Chap1 運算式、變數與資料型別"
      ],
      "metadata": {
        "id": "CRuOQ4vapKc3"
      }
    },
    {
      "cell_type": "code",
      "source": [
        ""
      ],
      "metadata": {
        "id": "Ya96I-yVI5cu"
      },
      "execution_count": null,
      "outputs": []
    },
    {
      "cell_type": "markdown",
      "source": [
        "### 註解"
      ],
      "metadata": {
        "id": "ybh4pBfvpVtm"
      }
    },
    {
      "cell_type": "code",
      "execution_count": null,
      "metadata": {
        "id": "q6xwOSTapEw_"
      },
      "outputs": [],
      "source": [
        "#單行註解\n",
        "a=5\n",
        "b=3\n",
        "print(a+b)"
      ]
    },
    {
      "cell_type": "code",
      "source": [
        "'''\n",
        "多行註解\n",
        "\n",
        "'''\n",
        "a=5\n",
        "b=3\n",
        "print(a+b)"
      ],
      "metadata": {
        "id": "tIDIqZEVpp1-"
      },
      "execution_count": null,
      "outputs": []
    },
    {
      "cell_type": "code",
      "source": [
        "#變數交換,透過第3變數\n",
        "x=1\n",
        "y=10\n",
        "\n",
        "z=x\n",
        "x=y\n",
        "y=z\n",
        "\n",
        "print(x)\n",
        "print(y)\n"
      ],
      "metadata": {
        "colab": {
          "base_uri": "https://localhost:8080/"
        },
        "id": "6uYMi-PBsapX",
        "outputId": "635db323-d3f0-485d-ad63-c7a902a68f62"
      },
      "execution_count": null,
      "outputs": [
        {
          "output_type": "stream",
          "name": "stdout",
          "text": [
            "10\n",
            "1\n"
          ]
        }
      ]
    },
    {
      "cell_type": "code",
      "source": [
        "#變數交換,不透過第3變數\n",
        "x=1\n",
        "y=10\n",
        "\n",
        "x=x+y\n",
        "y=x-y\n",
        "x=x-y\n",
        "\n",
        "print(x)\n",
        "print(y)"
      ],
      "metadata": {
        "colab": {
          "base_uri": "https://localhost:8080/"
        },
        "id": "IwWCccXitzOn",
        "outputId": "4988e033-d1b0-4aa3-de03-ddcb73d199d5"
      },
      "execution_count": null,
      "outputs": [
        {
          "output_type": "stream",
          "name": "stdout",
          "text": [
            "10\n",
            "1\n"
          ]
        }
      ]
    },
    {
      "cell_type": "code",
      "source": [
        "#變數的平行設定\n",
        "x,y,z=1,10,100\n",
        "print(x,y,z)"
      ],
      "metadata": {
        "colab": {
          "base_uri": "https://localhost:8080/"
        },
        "id": "UP_3VN4Pvxyv",
        "outputId": "afc54196-0370-4361-94ce-f81c0c5b73f8"
      },
      "execution_count": null,
      "outputs": [
        {
          "output_type": "stream",
          "name": "stdout",
          "text": [
            "1 10 100\n"
          ]
        }
      ]
    },
    {
      "cell_type": "code",
      "source": [
        "#python版本的變數交換\n",
        "x=1\n",
        "y=10\n",
        "x,y=y,x\n",
        "print(x,y)"
      ],
      "metadata": {
        "colab": {
          "base_uri": "https://localhost:8080/"
        },
        "id": "dHS03VoXvH9I",
        "outputId": "6185e25e-7351-472e-a81b-85ce67e29367"
      },
      "execution_count": null,
      "outputs": [
        {
          "output_type": "stream",
          "name": "stdout",
          "text": [
            "10 1\n"
          ]
        }
      ]
    },
    {
      "cell_type": "code",
      "source": [
        "x,y,z=3,4,5\n",
        "x+=1 #x=x+1\n",
        "y*=2 #y=y*2\n",
        "z**=3 #z=z**3\n",
        "print(x,y,z)"
      ],
      "metadata": {
        "colab": {
          "base_uri": "https://localhost:8080/"
        },
        "id": "gzs-Xh8qevye",
        "outputId": "e074d960-16a6-42a8-9675-b13df02ae5d9"
      },
      "execution_count": null,
      "outputs": [
        {
          "output_type": "stream",
          "name": "stdout",
          "text": [
            "4 8 125\n"
          ]
        }
      ]
    },
    {
      "cell_type": "markdown",
      "source": [
        "### 變數的應用\n"
      ],
      "metadata": {
        "id": "mm0mkyTRiKRl"
      }
    },
    {
      "cell_type": "markdown",
      "source": [
        "### Q:半徑為10的圓形，其面積大小為何?"
      ],
      "metadata": {
        "id": "SjxJTMGGiXk8"
      }
    },
    {
      "cell_type": "code",
      "source": [
        "import math\n",
        "r=10\n",
        "print(r*r*math.pi)"
      ],
      "metadata": {
        "colab": {
          "base_uri": "https://localhost:8080/"
        },
        "id": "UykpIGyKin5z",
        "outputId": "82744b0e-7239-43c1-b7a2-5b5961926c23"
      },
      "execution_count": null,
      "outputs": [
        {
          "output_type": "stream",
          "name": "stdout",
          "text": [
            "314.1592653589793\n"
          ]
        }
      ]
    },
    {
      "cell_type": "code",
      "source": [
        "import math\n",
        "r=eval(input(\"請輸入圓的半徑\")) #eval()將字串轉化成數值運算\n",
        "print(r*r*math.pi)"
      ],
      "metadata": {
        "colab": {
          "base_uri": "https://localhost:8080/"
        },
        "id": "LP6KWPLvkcMF",
        "outputId": "4802f798-7055-4d96-c525-1273f6af3b91"
      },
      "execution_count": null,
      "outputs": [
        {
          "output_type": "stream",
          "name": "stdout",
          "text": [
            "請輸入圓的半徑5\n",
            "78.53981633974483\n"
          ]
        }
      ]
    },
    {
      "cell_type": "markdown",
      "source": [
        "### 資料型別\n",
        "\n",
        "### python屬於動態類型變數，使用前不需要宣告資料型態"
      ],
      "metadata": {
        "id": "Gz7iuvB6qwaU"
      }
    },
    {
      "cell_type": "code",
      "source": [
        "x=254\n",
        "y=254.0\n",
        "z=\"write\"\n",
        "print(type(x))\n",
        "print(type(y))\n",
        "print(type(z))\n",
        "print(type(x==y))"
      ],
      "metadata": {
        "colab": {
          "base_uri": "https://localhost:8080/"
        },
        "id": "NMpb9RFvrJAL",
        "outputId": "e6ee6623-ce9b-4faa-ca0d-aac4deea7afe"
      },
      "execution_count": null,
      "outputs": [
        {
          "output_type": "stream",
          "name": "stdout",
          "text": [
            "<class 'int'>\n",
            "<class 'float'>\n",
            "<class 'str'>\n",
            "<class 'bool'>\n"
          ]
        }
      ]
    },
    {
      "cell_type": "markdown",
      "source": [
        "### 算數符號"
      ],
      "metadata": {
        "id": "3ToLSuTNs_as"
      }
    },
    {
      "cell_type": "code",
      "source": [
        "x=10\n",
        "y=3\n",
        "print(x/y)\n",
        "print(x//y) #取商\n",
        "print(x%y) #取餘數"
      ],
      "metadata": {
        "colab": {
          "base_uri": "https://localhost:8080/"
        },
        "id": "tH3Ff9qvtI5K",
        "outputId": "bae5ff91-f57f-49b1-e9aa-6bcd90e168c6"
      },
      "execution_count": null,
      "outputs": [
        {
          "output_type": "stream",
          "name": "stdout",
          "text": [
            "3.3333333333333335\n",
            "3\n",
            "1\n"
          ]
        }
      ]
    },
    {
      "cell_type": "markdown",
      "source": [
        "### 算數符號的順序\n",
        "### ()括號>**次方>*/乘除>-+加減"
      ],
      "metadata": {
        "id": "5icxkRVhvBfD"
      }
    },
    {
      "cell_type": "code",
      "source": [
        "a=(5*(2+1)**2-3+4/2)\n",
        "print(a)#()>次方>乘除>加減"
      ],
      "metadata": {
        "colab": {
          "base_uri": "https://localhost:8080/"
        },
        "id": "Q5k9Q8k6ve1r",
        "outputId": "265f7cc2-6c17-48b2-ac75-f13cae7eba65"
      },
      "execution_count": null,
      "outputs": [
        {
          "output_type": "stream",
          "name": "stdout",
          "text": [
            "44.0\n"
          ]
        }
      ]
    },
    {
      "cell_type": "markdown",
      "source": [
        "# 型別轉換"
      ],
      "metadata": {
        "id": "42gCLsUbkhIV"
      }
    },
    {
      "cell_type": "code",
      "source": [
        "x=\"must\"\n",
        "print(type(x))\n",
        "y = 10\n",
        "print(type(y))         \n",
        "print(10*y)\n",
        "print(10*x)\n",
        "z=\"10\"\n",
        "print(10*z)\n",
        "print(10*int(z))\n",
        "print(10*float(z))\n",
        "print(10*str(z))\n",
        "print(10*eval(\"5*2\"))"
      ],
      "metadata": {
        "colab": {
          "base_uri": "https://localhost:8080/"
        },
        "id": "YD-_5F8OkpBN",
        "outputId": "00de5f6b-e07c-4121-d10a-9516e2c5a6a0"
      },
      "execution_count": null,
      "outputs": [
        {
          "output_type": "stream",
          "name": "stdout",
          "text": [
            "<class 'str'>\n",
            "<class 'int'>\n",
            "100\n",
            "mustmustmustmustmustmustmustmustmustmust\n",
            "10101010101010101010\n",
            "100\n",
            "100.0\n",
            "10101010101010101010\n",
            "100\n"
          ]
        }
      ]
    },
    {
      "cell_type": "markdown",
      "source": [
        "#print的三種方式\n",
        "\n",
        "\n",
        "\n",
        "\n"
      ],
      "metadata": {
        "id": "yGyQYq0gyBrs"
      }
    },
    {
      "cell_type": "markdown",
      "source": [
        "\n",
        "\n",
        "*   透過,區隔要列印的變數 eg: print(\"This\", \"is\", \"a\", \"book\")\n",
        "*   利用字串的str.format() (新式)\n",
        "*   %格式化输出字符串 (舊式)"
      ],
      "metadata": {
        "id": "VWZ2xOP-yQ6z"
      }
    },
    {
      "cell_type": "code",
      "source": [
        "a=\"This\"+\"is\"+\"a\"+\"book\"\n",
        "print(a)\n",
        "#Thisisabook\n",
        "print(\"This\", \"is\", \"a\", \"book\")\n",
        "#This is a book"
      ],
      "metadata": {
        "colab": {
          "base_uri": "https://localhost:8080/"
        },
        "id": "npw9_d8aynTo",
        "outputId": "b7f932fe-5831-483a-c42b-19abe2cecea1"
      },
      "execution_count": null,
      "outputs": [
        {
          "output_type": "stream",
          "name": "stdout",
          "text": [
            "Thisisabook\n",
            "This is a book\n"
          ]
        }
      ]
    }
  ]
}