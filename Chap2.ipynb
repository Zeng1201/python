{
  "nbformat": 4,
  "nbformat_minor": 0,
  "metadata": {
    "colab": {
      "name": "Chap2.ipynb",
      "provenance": [],
      "collapsed_sections": []
    },
    "kernelspec": {
      "name": "python3",
      "display_name": "Python 3"
    },
    "language_info": {
      "name": "python"
    }
  },
  "cells": [
    {
      "cell_type": "markdown",
      "source": [
        "##If的使用\n"
      ],
      "metadata": {
        "id": "YXOcsX60ty22"
      }
    },
    {
      "cell_type": "code",
      "execution_count": null,
      "metadata": {
        "colab": {
          "base_uri": "https://localhost:8080/"
        },
        "id": "X61BH6Potqc_",
        "outputId": "7325f2e4-cbb4-4309-b31a-2e68b27d472b"
      },
      "outputs": [
        {
          "output_type": "stream",
          "name": "stdout",
          "text": [
            "a<b\n"
          ]
        }
      ],
      "source": [
        "a=4\n",
        "b=3\n",
        "if a>b: #if要加:\n",
        "  print(\"a>b\")\n",
        "else:\n",
        "  print(\"a<b\")\n",
        "  "
      ]
    },
    {
      "cell_type": "code",
      "source": [
        "grade=66\n",
        "print(\"成績評鑑\")\n",
        "if grade>=90:\n",
        "  print(\"優等\")\n",
        "if grade>=80:\n",
        "  print(\"甲等\")\n",
        "if grade>=70:\n",
        "  print(\"乙等\")\n",
        "if grade>=60:\n",
        "  print(\"丙等\")\n",
        "if grade<60:\n",
        "  print(\"不及格\")"
      ],
      "metadata": {
        "colab": {
          "base_uri": "https://localhost:8080/"
        },
        "id": "wfw0WRHyGqOw",
        "outputId": "c701c6c9-6412-453d-f420-995c4b1cc45e"
      },
      "execution_count": null,
      "outputs": [
        {
          "output_type": "stream",
          "name": "stdout",
          "text": [
            "成績評鑑\n",
            "乙等\n",
            "丙等\n"
          ]
        }
      ]
    },
    {
      "cell_type": "markdown",
      "source": [
        "##For的使用"
      ],
      "metadata": {
        "id": "eREWmQAE2LoX"
      }
    },
    {
      "cell_type": "code",
      "source": [
        "for i in range(10):#0-9,不包含10\n",
        "  print(i)\n",
        "for i in range(0,10,1):#從1,每次進1次,不包含10\n",
        "  print(i)"
      ],
      "metadata": {
        "colab": {
          "base_uri": "https://localhost:8080/"
        },
        "id": "eP4Hph922XQ8",
        "outputId": "2ed8f5f6-3d42-408c-b3bd-919b9ac23208"
      },
      "execution_count": null,
      "outputs": [
        {
          "output_type": "stream",
          "name": "stdout",
          "text": [
            "0\n",
            "1\n",
            "2\n",
            "3\n",
            "4\n",
            "5\n",
            "6\n",
            "7\n",
            "8\n",
            "9\n",
            "0\n",
            "1\n",
            "2\n",
            "3\n",
            "4\n",
            "5\n",
            "6\n",
            "7\n",
            "8\n",
            "9\n"
          ]
        }
      ]
    },
    {
      "cell_type": "code",
      "source": [
        "for c in \"I am a girl.\":\n",
        "  print(c)\n",
        "for p in [\"Java\",\"C#\",\"Python\"]:\n",
        "  print(p)\n"
      ],
      "metadata": {
        "colab": {
          "base_uri": "https://localhost:8080/"
        },
        "id": "4JA_Y9Uh5Set",
        "outputId": "3bfdf034-4397-4a73-acdb-b30de2b96e63"
      },
      "execution_count": null,
      "outputs": [
        {
          "output_type": "stream",
          "name": "stdout",
          "text": [
            "I\n",
            " \n",
            "a\n",
            "m\n",
            " \n",
            "a\n",
            " \n",
            "g\n",
            "i\n",
            "r\n",
            "l\n",
            ".\n",
            "Java\n",
            "C#\n",
            "Python\n"
          ]
        }
      ]
    },
    {
      "cell_type": "code",
      "source": [
        "sum=0\n",
        "for i in range(1,11,1):\n",
        "  sum+=i\n",
        "  print(sum)"
      ],
      "metadata": {
        "colab": {
          "base_uri": "https://localhost:8080/"
        },
        "id": "THEv5gKg69UG",
        "outputId": "c5665005-0c1d-478e-f642-4a523abd1bd0"
      },
      "execution_count": null,
      "outputs": [
        {
          "output_type": "stream",
          "name": "stdout",
          "text": [
            "1\n",
            "3\n",
            "6\n",
            "10\n",
            "15\n",
            "21\n",
            "28\n",
            "36\n",
            "45\n",
            "55\n"
          ]
        }
      ]
    },
    {
      "cell_type": "code",
      "source": [
        "for chicken in range(0,36): #0-35,不含36\n",
        "    rabbit=35-chicken\n",
        "    if (2*chicken+4*rabbit) == 94:\n",
        "        print(\"雞有\",chicken,\"隻 , 兔子有\",rabbit,\"隻\")\n",
        "        break\n",
        "else:\n",
        "    print(\"無解\")"
      ],
      "metadata": {
        "colab": {
          "base_uri": "https://localhost:8080/"
        },
        "id": "RFnH537iHFwI",
        "outputId": "2ded7b59-0d95-4c90-94cb-d89b0f2190bc"
      },
      "execution_count": null,
      "outputs": [
        {
          "output_type": "stream",
          "name": "stdout",
          "text": [
            "雞有 23 隻 , 兔子有 12 隻\n"
          ]
        }
      ]
    },
    {
      "cell_type": "code",
      "source": [
        "i=1\n",
        "sum=0\n",
        "while i<11:\n",
        "  sum+=i\n",
        "  i+=1\n",
        "  \n",
        "  print(sum)"
      ],
      "metadata": {
        "colab": {
          "base_uri": "https://localhost:8080/"
        },
        "id": "uMKWgswi990h",
        "outputId": "23f8c26c-3f1b-4d5a-ca93-8900ca43bc3d"
      },
      "execution_count": null,
      "outputs": [
        {
          "output_type": "stream",
          "name": "stdout",
          "text": [
            "1\n",
            "3\n",
            "6\n",
            "10\n",
            "15\n",
            "21\n",
            "28\n",
            "36\n",
            "45\n",
            "55\n"
          ]
        }
      ]
    }
  ]
}