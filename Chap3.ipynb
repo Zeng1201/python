{
  "nbformat": 4,
  "nbformat_minor": 0,
  "metadata": {
    "colab": {
      "name": "Chap3.ipynb",
      "provenance": [],
      "collapsed_sections": [],
      "authorship_tag": "ABX9TyOkq+Nd+bNaC368+qIlz07M",
      "include_colab_link": true
    },
    "kernelspec": {
      "name": "python3",
      "display_name": "Python 3"
    },
    "language_info": {
      "name": "python"
    }
  },
  "cells": [
    {
      "cell_type": "markdown",
      "metadata": {
        "id": "view-in-github",
        "colab_type": "text"
      },
      "source": [
        "<a href=\"https://colab.research.google.com/github/Zeng1201/python/blob/main/Chap3.ipynb\" target=\"_parent\"><img src=\"https://colab.research.google.com/assets/colab-badge.svg\" alt=\"Open In Colab\"/></a>"
      ]
    },
    {
      "cell_type": "markdown",
      "source": [
        "####Python\n",
        "####List[串列]Tuple(元組)Dictionary{字典}Sets{集合}"
      ],
      "metadata": {
        "id": "6QnZy6P65Wvb"
      }
    },
    {
      "cell_type": "markdown",
      "source": [
        "#List[串列]"
      ],
      "metadata": {
        "id": "BXw4exfHJbZR"
      }
    },
    {
      "cell_type": "code",
      "execution_count": null,
      "metadata": {
        "colab": {
          "base_uri": "https://localhost:8080/"
        },
        "id": "OJmINzG65RsE",
        "outputId": "fca5e70c-a53c-4b43-f778-7ac49d85e617"
      },
      "outputs": [
        {
          "output_type": "stream",
          "name": "stdout",
          "text": [
            "90\n",
            "85\n",
            "95\n",
            "95\n"
          ]
        }
      ],
      "source": [
        "socre=[90,85,60,65,95]\n",
        "print(socre[0])\n",
        "print(socre[1])\n",
        "print(socre[4])\n",
        "print(socre[-1])#-1是從最後面數來第一個"
      ]
    },
    {
      "cell_type": "code",
      "source": [
        "socre=[90,85,60,65,95]\n",
        "print(socre[0:3])#0-3\n",
        "print(socre[:3])\n",
        "print(socre[3:])#4,5\n",
        "print(socre[:])#全部值"
      ],
      "metadata": {
        "colab": {
          "base_uri": "https://localhost:8080/"
        },
        "id": "7hWuiipVBod-",
        "outputId": "fdd2932c-9a5a-488b-989f-248547d6b6a1"
      },
      "execution_count": null,
      "outputs": [
        {
          "output_type": "stream",
          "name": "stdout",
          "text": [
            "[90, 85, 60]\n",
            "[90, 85, 60]\n",
            "[65, 95]\n",
            "[90, 85, 60, 65, 95]\n"
          ]
        }
      ]
    },
    {
      "cell_type": "code",
      "source": [
        "socre=[90,85,60,65,95]\n",
        "print(socre[0:5:2])#從0開始到5，跳2個數\n",
        "print(socre[::2])#同上\n",
        "print(socre[4:0:-1])#4-1\n",
        "print(socre[0:4:-1])#由0到4，從後面數"
      ],
      "metadata": {
        "colab": {
          "base_uri": "https://localhost:8080/"
        },
        "id": "MkcswjMgD684",
        "outputId": "0ff7ca43-857f-4f93-e052-58cd05fbe440"
      },
      "execution_count": null,
      "outputs": [
        {
          "output_type": "stream",
          "name": "stdout",
          "text": [
            "[90, 60, 95]\n",
            "[90, 60, 95]\n",
            "[95, 65, 60, 85]\n",
            "[]\n"
          ]
        }
      ]
    },
    {
      "cell_type": "code",
      "source": [
        "xx = [138, 101,12, 300, 2049]\n",
        "x=sorted(xx) #soted讓值不會變\n",
        "print(x, xx)"
      ],
      "metadata": {
        "colab": {
          "base_uri": "https://localhost:8080/"
        },
        "id": "AAA7S8teLS-l",
        "outputId": "681433fe-5c9d-4671-e7ae-f6ebf6682e29"
      },
      "execution_count": 2,
      "outputs": [
        {
          "output_type": "stream",
          "name": "stdout",
          "text": [
            "[12, 101, 138, 300, 2049] [138, 101, 12, 300, 2049]\n"
          ]
        }
      ]
    },
    {
      "cell_type": "markdown",
      "source": [
        "####字串"
      ],
      "metadata": {
        "id": "0uD-34kJFqx4"
      }
    },
    {
      "cell_type": "code",
      "source": [
        "astr=\"abcdefghijklmnopqrstuvwxyz\"\n",
        "print(astr[0])#字串從0\n",
        "print(astr[-1])\n",
        "print(astr[5:20])\n",
        "print(astr[5:20:3])"
      ],
      "metadata": {
        "colab": {
          "base_uri": "https://localhost:8080/"
        },
        "id": "l1Siy0uCFvxo",
        "outputId": "5bbd6099-f82f-4d02-b401-c4337d20b1b4"
      },
      "execution_count": null,
      "outputs": [
        {
          "output_type": "stream",
          "name": "stdout",
          "text": [
            "a\n",
            "z\n",
            "fghijklmnopqrst\n",
            "filor\n"
          ]
        }
      ]
    },
    {
      "cell_type": "code",
      "source": [
        "my_list0=[]#空串列\n",
        "print(my_list0)\n",
        "my_list1=list()\n",
        "print(my_list1)\n",
        "my_list2=[\"python\",\"javascript\",\"C#\"]\n",
        "print(my_list2)\n",
        "print(my_list2[0])"
      ],
      "metadata": {
        "colab": {
          "base_uri": "https://localhost:8080/"
        },
        "id": "N9YFZiMR8uM0",
        "outputId": "32d69f6e-3b44-43bc-97aa-67f53c378ccd"
      },
      "execution_count": null,
      "outputs": [
        {
          "output_type": "stream",
          "name": "stdout",
          "text": [
            "[]\n",
            "[]\n",
            "['python', 'javascript', 'C#']\n",
            "python\n"
          ]
        }
      ]
    },
    {
      "cell_type": "code",
      "source": [
        "my_list2=[\"python\",\"javascript\",\"C#\"]\n",
        "print(len(my_list2))#回傳字串中的字元數\n",
        "my_list2.append('java')#append是附加\n",
        "print(my_list2)\n",
        "my_list2.remove('java')#remove是移除\n",
        "print(my_list2)\n",
        "my_list2.insert(1,'java')#insert是插入\n",
        "print(my_list2)"
      ],
      "metadata": {
        "colab": {
          "base_uri": "https://localhost:8080/"
        },
        "id": "vIcS3Nat_UF1",
        "outputId": "70596dae-85c8-4f78-a7bf-91ef0cf93bdb"
      },
      "execution_count": null,
      "outputs": [
        {
          "output_type": "stream",
          "name": "stdout",
          "text": [
            "3\n",
            "['python', 'javascript', 'C#', 'java']\n",
            "['python', 'javascript', 'C#']\n",
            "['python', 'java', 'javascript', 'C#']\n"
          ]
        }
      ]
    }
  ]
}